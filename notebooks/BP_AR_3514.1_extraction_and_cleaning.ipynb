{
 "cells": [
  {
   "cell_type": "code",
   "execution_count": 1,
   "metadata": {},
   "outputs": [
    {
     "name": "stderr",
     "output_type": "stream",
     "text": [
      "[nltk_data] Downloading package punkt_tab to\n",
      "[nltk_data]     /Users/jerramclaughlin/nltk_data...\n",
      "[nltk_data]   Package punkt_tab is already up-to-date!\n",
      "[nltk_data] Downloading package stopwords to\n",
      "[nltk_data]     /Users/jerramclaughlin/nltk_data...\n",
      "[nltk_data]   Package stopwords is already up-to-date!\n",
      "[nltk_data] Downloading package wordnet to\n",
      "[nltk_data]     /Users/jerramclaughlin/nltk_data...\n",
      "[nltk_data]   Package wordnet is already up-to-date!\n"
     ]
    },
    {
     "data": {
      "text/plain": [
       "True"
      ]
     },
     "execution_count": 1,
     "metadata": {},
     "output_type": "execute_result"
    }
   ],
   "source": [
    "import pandas as pd\n",
    "from utils import *\n",
    "import os\n",
    "import fitz\n",
    "from pdf2image import convert_from_path\n",
    "import pytesseract\n",
    "import nltk\n",
    "import re\n",
    "from nltk.corpus import stopwords\n",
    "from nltk.stem import WordNetLemmatizer\n",
    "from nltk.tokenize import word_tokenize\n",
    "\n",
    "nltk.download('punkt_tab')\n",
    "nltk.download('stopwords')\n",
    "nltk.download('wordnet')"
   ]
  },
  {
   "cell_type": "markdown",
   "metadata": {},
   "source": [
    "#### Step 1: Change Working Directory"
   ]
  },
  {
   "cell_type": "code",
   "execution_count": 2,
   "metadata": {},
   "outputs": [],
   "source": [
    "os.chdir('/Users/jerramclaughlin/Policy-Language-Analysis/data/BP_AR_3514.1')"
   ]
  },
  {
   "cell_type": "code",
   "execution_count": 3,
   "metadata": {},
   "outputs": [
    {
     "name": "stdout",
     "output_type": "stream",
     "text": [
      "/Users/jerramclaughlin/Policy-Language-Analysis/data/BP_AR_3514.1\n"
     ]
    }
   ],
   "source": [
    "print(os.getcwd())"
   ]
  },
  {
   "cell_type": "markdown",
   "metadata": {},
   "source": [
    "#### Step 2: Load Data"
   ]
  },
  {
   "cell_type": "code",
   "execution_count": 4,
   "metadata": {},
   "outputs": [],
   "source": [
    "policy_pdf_collection_doc_path = \"/Users/jerramclaughlin/Policy-Language-Analysis/data/BP_AR_3514_1.xlsx\" # insert pdf collection doc path here\n",
    "\n",
    "policy_pdfs = pd.read_excel(policy_pdf_collection_doc_path) "
   ]
  },
  {
   "cell_type": "markdown",
   "metadata": {},
   "source": [
    "#### Step 3: Extract Text from PDFs"
   ]
  },
  {
   "cell_type": "code",
   "execution_count": 5,
   "metadata": {},
   "outputs": [],
   "source": [
    "# Change dtype from float to obbject for text columns \n",
    "policy_pdfs[['AR3514.1: PDF Text', 'BP3514.1: PDF Text']] = policy_pdfs[['AR3514.1: PDF Text', 'BP3514.1: PDF Text']].astype(object)"
   ]
  },
  {
   "cell_type": "code",
   "execution_count": 6,
   "metadata": {},
   "outputs": [
    {
     "name": "stdout",
     "output_type": "stream",
     "text": [
      "MuPDF error: format error: No default Layer config\n",
      "\n",
      "All relevant rows have text extracted.\n"
     ]
    }
   ],
   "source": [
    "policy_pdfs = extract_and_update_pdf_texts(policy_pdfs, 'AR3514.1: Path to PDF', 'AR3514.1: PDF Text')\n",
    "\n",
    "# check all relevant columns and pdfs have been extracted\n",
    "check_and_report_missing_texts(policy_pdfs, 'AR: 3514.1 Hazardous Substances', 'AR3514.1: Path to PDF', 'AR3514.1: PDF Text')"
   ]
  },
  {
   "cell_type": "code",
   "execution_count": 7,
   "metadata": {},
   "outputs": [
    {
     "name": "stdout",
     "output_type": "stream",
     "text": [
      "MuPDF error: format error: No default Layer config\n",
      "\n",
      "All relevant rows have text extracted.\n"
     ]
    }
   ],
   "source": [
    "policy_pdfs = extract_and_update_pdf_texts(policy_pdfs, 'BP3514.1: Path to PDF', 'BP3514.1: PDF Text')\n",
    "\n",
    "# check all relevant columns and pdfs have been extracted\n",
    "check_and_report_missing_texts(policy_pdfs, 'BP: 3514.1 Hazardous Substances', 'BP3514.1: Path to PDF', 'BP3514.1: PDF Text')"
   ]
  },
  {
   "cell_type": "markdown",
   "metadata": {},
   "source": [
    "### Step 4: Clean up Text"
   ]
  },
  {
   "cell_type": "code",
   "execution_count": 25,
   "metadata": {},
   "outputs": [],
   "source": [
    "def clean_pdf_text(text):\n",
    "    \"\"\"\n",
    "    Cleans up textual data by lowercasing all letters, removing punctuation, removing stop words,\n",
    "    and lemmatizing. \n",
    "    \"\"\"\n",
    "    text = re.sub(r'Education code.*$', '', text, flags=re.IGNORECASE)\n",
    "    text = re.sub(r'legal reference.*', '', text, flags=re.IGNORECASE | re.DOTALL) # Use regex to remove 'legal reference' and everything after\n",
    "    text = text.lower() # Lowercase text \n",
    "    tokens = word_tokenize(text) # Tokenize text\n",
    "    tokens = [re.sub(r'[^\\w\\s]', '', token) for token in tokens if re.sub(r'[^\\w\\s]', '', token)] # Regular expression to match punctuation\n",
    "    stop_words = set(stopwords.words('english')) # Define stop words\n",
    "    tokens = [word for word in tokens if word not in stop_words] # Remove stop words \n",
    "    lemmatizer = WordNetLemmatizer() \n",
    "    tokens = [lemmatizer.lemmatize(word) for word in tokens]  # Lemmetize \n",
    "    cleaned_text = ' '.join(tokens) # Join tokens back into a string\n",
    "    \n",
    "    return cleaned_text"
   ]
  },
  {
   "cell_type": "markdown",
   "metadata": {},
   "source": [
    "### Step 5: Load cleaned Text into Data folder for Analysis"
   ]
  },
  {
   "cell_type": "code",
   "execution_count": 26,
   "metadata": {},
   "outputs": [],
   "source": [
    "# change dtype to string bc the function only takes in str \n",
    "policy_pdfs[['BP3514.1: PDF Text', 'AR3514.1: PDF Text']] = policy_pdfs[['BP3514.1: PDF Text', 'AR3514.1: PDF Text']].astype(str)\n",
    "\n",
    "# apply function to all rows in text columns \n",
    "policy_pdfs['BP3514.1: PDF Text'] = policy_pdfs['BP3514.1: PDF Text'].apply(clean_pdf_text)\n",
    "policy_pdfs['AR3514.1: PDF Text'] = policy_pdfs['AR3514.1: PDF Text'].apply(clean_pdf_text)"
   ]
  },
  {
   "cell_type": "code",
   "execution_count": 27,
   "metadata": {},
   "outputs": [],
   "source": [
    "# Save as csv in data folder\n",
    "policy_pdfs.to_csv('/Users/jerramclaughlin/Policy-Language-Analysis/cleaned_data/BP_AR_3514.1.csv', index='False')"
   ]
  },
  {
   "cell_type": "code",
   "execution_count": null,
   "metadata": {},
   "outputs": [],
   "source": []
  }
 ],
 "metadata": {
  "kernelspec": {
   "display_name": "Python 3 (ipykernel)",
   "language": "python",
   "name": "python3"
  },
  "language_info": {
   "codemirror_mode": {
    "name": "ipython",
    "version": 3
   },
   "file_extension": ".py",
   "mimetype": "text/x-python",
   "name": "python",
   "nbconvert_exporter": "python",
   "pygments_lexer": "ipython3",
   "version": "3.13.1"
  }
 },
 "nbformat": 4,
 "nbformat_minor": 4
}
